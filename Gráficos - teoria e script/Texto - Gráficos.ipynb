{
 "cells": [
  {
   "cell_type": "markdown",
   "id": "25d03689-1706-4867-ab85-f80b1ceb17cb",
   "metadata": {},
   "source": [
    "### Gráficos de linha:\n",
    "1. Eixo X: Variáveis contínuas ou temporais\n",
    "- Tempo (dias, meses, anos, horas, etc.)\n",
    "- Temperatura, pressão ou outras variáveis físicas contínuas\n",
    "\n",
    "2. Eixo Y: Variáveis quantitativas (contínua ou discreta)\n",
    "- Vendas, lucro, número de clientes\n",
    "- Medições físicas (como temperatura, volume)\n",
    "- Taxas ou índices (taxa de crescimento, inflação, desemprego)\n",
    "\n",
    "#### Quando utilizar?\n",
    "- Quando o objetivo é destacar tendências ou padrões ao longo de um eixo contínuo.\n",
    "- Ideal para dados com frequência regular (ex: séries temporais diárias ou mensais).\n",
    "- É preferível a um gráfico de barras quando se busca mostrar a evolução suave entre pontos, e não apenas comparações pontuais."
   ]
  },
  {
   "cell_type": "markdown",
   "id": "eaa12a88-8dc4-40fa-af45-7cb7b07b020d",
   "metadata": {},
   "source": [
    "### Gráficos de barra:\n",
    "1. Eixo X: Variáveis categóricas ou discretas\n",
    "- Exemplos:\n",
    "    - Produtos/Departamentos\n",
    "    - Cidades\n",
    "    - Tipos de clientes\n",
    "\n",
    "2. Eixo Y: Variáveis quantitativas discretas ou contínuas\n",
    "- Exemplos:\n",
    "    - Total de vendas\n",
    "    - Frequência de eventos\n",
    "    - Média de avaliações\n",
    "\n",
    "#### Quando usar gráficos de barras?\n",
    "- Quando você quer comparar categorias discretas ou visualizar a frequência de valores específicos.\n",
    "- É ideal para situações em que os dados não possuem continuidade ou relação direta entre si (ex: vendas de produtos diferentes)."
   ]
  },
  {
   "cell_type": "markdown",
   "id": "22880fb8-fee7-44dd-a7b2-7974153ff5da",
   "metadata": {},
   "source": [
    "### Gráfico de Dispersão (Scatter Plot)\n",
    "1. Eixo X: Variável quantitativa contínua (ex: idade)\n",
    "   \n",
    "3. Eixo Y: Variável quantitativa contínua (ex: salário)\n",
    "- Uso: Avaliar correlação ou relação entre duas variáveis. <br>\n",
    "\n",
    "Exemplo: <br>\n",
    "X: Idade dos funcionários (contínua) <br>\n",
    "Y: Salário mensal (contínua)"
   ]
  },
  {
   "cell_type": "markdown",
   "id": "e52a6825-3e05-43e1-bfb3-442befd51170",
   "metadata": {},
   "source": [
    "### Histograma\n",
    "1. Eixo X: Intervalos de uma variável contínua (ex: peso em faixas)\n",
    "   \n",
    "3. Eixo Y: Frequência absoluta ou relativa (quantitativa discreta)\n",
    "- Uso: Mostrar a distribuição de uma variável contínua. \n",
    "\n",
    "Exemplo: <br>\n",
    "X: Peso dos alunos (contínuo, em faixas) <br>\n",
    "Y: Frequência de alunos em cada faixa (discreta)"
   ]
  }
 ],
 "metadata": {
  "kernelspec": {
   "display_name": "Python 3 (ipykernel)",
   "language": "python",
   "name": "python3"
  },
  "language_info": {
   "codemirror_mode": {
    "name": "ipython",
    "version": 3
   },
   "file_extension": ".py",
   "mimetype": "text/x-python",
   "name": "python",
   "nbconvert_exporter": "python",
   "pygments_lexer": "ipython3",
   "version": "3.9.13"
  }
 },
 "nbformat": 4,
 "nbformat_minor": 5
}
