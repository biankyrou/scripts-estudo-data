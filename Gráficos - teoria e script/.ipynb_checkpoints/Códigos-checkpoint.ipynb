{
 "cells": [
  {
   "cell_type": "markdown",
   "id": "9dae3fcc-8413-4cd9-9537-b96b33b79eee",
   "metadata": {},
   "source": [
    "## Gráfico de linha com índice"
   ]
  },
  {
   "cell_type": "code",
   "execution_count": null,
   "id": "892c344d-fc7f-447b-9af5-0010dee391b1",
   "metadata": {},
   "outputs": [],
   "source": [
    "import matplotlib.pyplot as plt\n",
    "\n",
    "def grafico_linha_matplotlib_coluna(df, coluna, titulo='Gráfico de Linha', xlabel='Índice', ylabel='Valor', cor='b'):\n",
    "    \"\"\"Cria um gráfico de linha usando uma única coluna do DataFrame e os índices.\"\"\"\n",
    "    plt.plot(df.index, df[coluna], marker='o', linestyle='-', color=cor, label=coluna)\n",
    "\n",
    "    # Personalizações\n",
    "    plt.title(titulo)\n",
    "    plt.xlabel(xlabel)\n",
    "    plt.ylabel(ylabel)\n",
    "    plt.legend()\n",
    "\n",
    "    # Exibir o gráfico\n",
    "    plt.show()\n",
    "\n",
    "# exemplo de uso\n",
    "grafico_linha_matplotlib_coluna(grupo_rot, 'Account Length (in months)', titulo='Account Length', cor='g')"
   ]
  },
  {
   "cell_type": "markdown",
   "id": "6726f1c8-73d4-42fb-a46d-964520ba4380",
   "metadata": {},
   "source": [
    "## Gráfico de linha com frequência"
   ]
  },
  {
   "cell_type": "code",
   "execution_count": null,
   "id": "d8c6ee6f-20c4-4607-987b-c4f1680040f3",
   "metadata": {},
   "outputs": [],
   "source": [
    "def grafico_linha_frequencia(df, coluna, titulo='Frequência', xlabel='Valor', ylabel='Frequência', cor='b'):\n",
    "    \"\"\"Cria um gráfico de linha para a frequência dos valores de uma coluna específica do DataFrame.\"\"\"\n",
    "    # Calculando a frequência de cada valor na coluna\n",
    "    frequencia = df[coluna].value_counts().sort_index()\n",
    "\n",
    "    # Criando o gráfico de linha\n",
    "    plt.plot(frequencia.index, frequencia.values, marker='o', linestyle='-', color=cor)\n",
    "\n",
    "    # Personalizações\n",
    "    plt.title(titulo)\n",
    "    plt.xlabel(xlabel)\n",
    "    plt.ylabel(ylabel)\n",
    "\n",
    "    # Exibir o gráfico\n",
    "    plt.show()\n",
    "\n",
    "# Chamando a função\n",
    "grafico_linha_frequencia(df, 'Account Length (in months)', titulo='Frequência de Comprimento da Conta', xlabel='Account Length', ylabel='Frequência', cor='g')"
   ]
  },
  {
   "cell_type": "markdown",
   "id": "755b5cf3-dd12-492e-8842-7487d26cf2e1",
   "metadata": {},
   "source": [
    "## Gráfico de dispersão com índice"
   ]
  },
  {
   "cell_type": "code",
   "execution_count": null,
   "id": "251c0499-cffa-4f94-beb0-0b1012a8043b",
   "metadata": {},
   "outputs": [],
   "source": [
    "import matplotlib.pyplot as plt\n",
    "\n",
    "def grafico_dispersao(df, coluna, titulo='Gráfico de Dispersão', xlabel='Índice', ylabel='Valor', cor='b'):\n",
    "    \"\"\"Cria um gráfico de dispersão usando uma única coluna do DataFrame e os índices.\"\"\"\n",
    "    plt.scatter(df.index, df[coluna], color=cor)\n",
    "\n",
    "    # Personalizações\n",
    "    plt.title(titulo)\n",
    "    plt.xlabel(xlabel)\n",
    "    plt.ylabel(ylabel)\n",
    "\n",
    "    # Exibir o gráfico\n",
    "    plt.show()\n",
    "\n",
    "# Exemplo de uso\n",
    "grafico_dispersao(df, 'Account Length (in months)', titulo='Dispersão de Comprimento de Conta', cor='g')"
   ]
  },
  {
   "cell_type": "markdown",
   "id": "806d9045-86d4-42be-8040-d7d6a72daa4f",
   "metadata": {},
   "source": [
    "## Histograma utilizando frequência"
   ]
  },
  {
   "cell_type": "code",
   "execution_count": null,
   "id": "2722676c-c520-4373-83e9-a380863aa0c7",
   "metadata": {},
   "outputs": [],
   "source": [
    "import matplotlib.pyplot as plt\n",
    "\n",
    "def grafico_histograma_matplotlib(df, coluna, titulo='Histograma', xlabel='Valor', ylabel='Frequência', bins=10, cor='b'):\n",
    "    \"\"\"Cria um histograma usando uma única coluna do DataFrame.\"\"\"\n",
    "    plt.hist(df[coluna], bins=bins, color=cor, edgecolor='black')\n",
    "\n",
    "    # Personalizações\n",
    "    plt.title(titulo)\n",
    "    plt.xlabel(xlabel)\n",
    "    plt.ylabel(ylabel)\n",
    "\n",
    "    # Exibir o gráfico\n",
    "    plt.show()\n",
    "\n",
    "#uso\n",
    "grafico_histograma_matplotlib(df, 'Account Length (in months)', titulo='Distribuição do Comprimento da Conta', bins=10, cor='g')"
   ]
  }
 ],
 "metadata": {
  "kernelspec": {
   "display_name": "Python 3 (ipykernel)",
   "language": "python",
   "name": "python3"
  },
  "language_info": {
   "codemirror_mode": {
    "name": "ipython",
    "version": 3
   },
   "file_extension": ".py",
   "mimetype": "text/x-python",
   "name": "python",
   "nbconvert_exporter": "python",
   "pygments_lexer": "ipython3",
   "version": "3.9.13"
  }
 },
 "nbformat": 4,
 "nbformat_minor": 5
}
