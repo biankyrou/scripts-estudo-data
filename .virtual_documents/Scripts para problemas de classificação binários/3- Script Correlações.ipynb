


import pandas as pd

df = pd.read_csv("data/titanic.csv")

def dividir_grupos(df, target_col):
    if df[target_col].dtype == 'int64':
        grupo_1 = df[df[target_col] == 1]
        grupo_0 = df[df[target_col] == 0]
        
    else:
        grupo_1 = df[df[target_col] == 'Yes']
        grupo_0 = df[df[target_col] == 'No']
    
    return grupo_1, grupo_0

grupo_1, grupo_0 = dividir_grupos(df, 'Survived')
grupo_1.head()





import seaborn as sns
import matplotlib.pyplot as plt

def analisar_correlacao(df, corr_vars, metodo='pearson'):
    # Calcular a correlação usando o método especificado
    correlacao = df[corr_vars].corr(method=metodo)
    
    # Criar o heatmap
    plt.figure(figsize=(10, 8))
    sns.heatmap(correlacao, annot=True, cmap='coolwarm', fmt=".2f", cbar=True)
    plt.title(f'Matriz de Correlação - Método: {metodo.capitalize()}')
    plt.show()



analisar_correlacao(df, ['Pclass', 'Age', 'Fare', 'Survived'], metodo='spearman')
