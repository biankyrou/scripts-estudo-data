


import pandas as pd

df = pd.read_csv("data/titanic.csv")





import seaborn as sns
import matplotlib.pyplot as plt


def tabela_contingencia(df, target_col, cat_var):
    cont_table = pd.crosstab(df[target_col], df[cat_var])
    return cont_table


# Visualização
def visualizar_tabela_contingencia(cont_table):
    cont_table.plot(kind='bar', stacked=True)
    plt.title('Tabela de Contingência')
    plt.show()





tabela = tabela_contingencia(df, 'Survived', 'Sex')
visualizar_tabela_contingencia(tabela)

