import pandas as pd

# Criando um DataFrame com os dados de funcionários
data = {
    'Nome': ['Ana', 'Pedro', 'Maria', 'João', 'Carla', 'Felipe', 'Camila'],
    'Idade': [28, 34, 29, 40, 32, 26, 30],
    'Cidade': ['SP', 'RJ', 'MG', 'RS', 'SP', 'RJ', 'MG'],
    'Salário': [3500, 5000, 4200, 4800, 3700, 3100, 4400],
    'Departamento': ['RH', 'TI', 'Marketing', 'Financeiro', 'RH', 'Vendas', 'TI'],
    'Data de Contratação': ['2020-01-10', '2018-07-23', '2019-09-30', 
                            '2017-05-12', '2021-03-15', '2022-11-05', '2020-06-01'],
    'Metas Alcançadas': [12, 18, 15, 20, 14, 8, 17]
}

df = pd.DataFrame(data)

# Convertendo a coluna de data para o tipo datetime
df['Data de Contratação'] = pd.to_datetime(df['Data de Contratação'])

# Exibindo o DataFrame
print(df)



df.head()
