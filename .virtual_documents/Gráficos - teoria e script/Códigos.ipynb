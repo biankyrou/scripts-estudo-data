


import matplotlib.pyplot as plt

def grafico_linha_matplotlib_coluna(df, coluna, titulo='Gráfico de Linha', xlabel='Índice', ylabel='Valor', cor='b'):
    """Cria um gráfico de linha usando uma única coluna do DataFrame e os índices."""
    plt.plot(df.index, df[coluna], marker='o', linestyle='-', color=cor, label=coluna)

    # Personalizações
    plt.title(titulo)
    plt.xlabel(xlabel)
    plt.ylabel(ylabel)
    plt.legend()

    # Exibir o gráfico
    plt.show()

# exemplo de uso
grafico_linha_matplotlib_coluna(grupo_rot, 'Account Length (in months)', titulo='Account Length', cor='g')











import matplotlib.pyplot as plt

def grafico_dispersao(df, coluna, titulo='Gráfico de Dispersão', xlabel='Índice', ylabel='Valor', cor='b'):
    """Cria um gráfico de dispersão usando uma única coluna do DataFrame e os índices."""
    plt.scatter(df.index, df[coluna], color=cor)

    # Personalizações
    plt.title(titulo)
    plt.xlabel(xlabel)
    plt.ylabel(ylabel)

    # Exibir o gráfico
    plt.show()

# Exemplo de uso
grafico_dispersao(df, 'Account Length (in months)', titulo='Dispersão de Comprimento de Conta', cor='g')





import matplotlib.pyplot as plt

def grafico_histograma_matplotlib(df, coluna, titulo='Histograma', xlabel='Valor', ylabel='Frequência', bins=10, cor='b'):
    """Cria um histograma usando uma única coluna do DataFrame."""
    plt.hist(df[coluna], bins=bins, color=cor, edgecolor='black')

    # Personalizações
    plt.title(titulo)
    plt.xlabel(xlabel)
    plt.ylabel(ylabel)

    # Exibir o gráfico
    plt.show()

#uso
grafico_histograma_matplotlib(df, 'Account Length (in months)', titulo='Distribuição do Comprimento da Conta', bins=10, cor='g')
