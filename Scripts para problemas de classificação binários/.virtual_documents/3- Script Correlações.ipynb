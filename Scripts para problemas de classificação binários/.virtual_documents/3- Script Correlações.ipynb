


import pandas as pd

df = pd.read_csv("data/titanic.csv")





import seaborn as sns
import matplotlib.pyplot as plt

def analisar_correlacao(df, corr_vars, metodo='pearson'):
    # Calcular a correlação usando o método especificado
    correlacao = df[corr_vars].corr(method=metodo)
    
    # Criar o heatmap
    plt.figure(figsize=(10, 8))
    sns.heatmap(correlacao, annot=True, cmap='coolwarm', fmt=".2f", cbar=True)
    plt.title(f'Matriz de Correlação - Método: {metodo.capitalize()}')
    plt.show()



analisar_correlacao(df, ['Pclass', 'Age', 'Fare', 'Survived'], metodo='spearman')
