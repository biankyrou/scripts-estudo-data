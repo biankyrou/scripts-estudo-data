


import pandas as pd

df = pd.read_csv("data/titanic.csv")

def dividir_grupos(df, target_col):
    if df[target_col].dtype == 'int64':
        grupo_1 = df[df[target_col] == 1]
        grupo_0 = df[df[target_col] == 0]
        
    else:
        grupo_1 = df[df[target_col] == 'Yes']
        grupo_0 = df[df[target_col] == 'No']
    
    return grupo_1, grupo_0

grupo_1, grupo_0 = dividir_grupos(df, 'Survived')
grupo_1.head()


import matplotlib.pyplot as plt

# Definir o tamanho da figura
plt.figure(figsize=(10, 6))

# Criar o histograma para a coluna 'Fare'
plt.hist(df['Fare'], bins=30, color='blue', edgecolor='black')

# Adicionar título e rótulos aos eixos
plt.title('Histograma de Fare')
plt.xlabel('Fare')
plt.ylabel('Frequência')

# Exibir o gráfico
plt.show()






def comparar_medias(grupo_1, grupo_0, var_numerica):
    media_grupo_1 = grupo_1[var_numerica].mean()
    media_grupo_0 = grupo_0[var_numerica].mean()
    return media_grupo_1, media_grupo_0


#uso: media_grupo1, media_grupo0 = comparar_medias(grupo_1, grupo_0, 'Fare')
#print(media_grupo1, media_grupo0)


def comparar_mediana(grupo_1, grupo_0, var_numerica):
    mediana_grupo_1 = grupo_1[var_numerica].median()
    mediana_grupo_0 = grupo_0[var_numerica].median()
    return mediana_grupo_1, mediana_grupo_0


#uso: mediana_grupo_1, mediana_grupo_0 = comparar_mediana(grupo_1, grupo_0, 'Fare')
#print(mediana_grupo_1, mediana_grupo_0)


def comparar_moda(grupo_1, grupo_0, var_numerica):
    moda_grupo_1 = grupo_1[var_numerica].mode()
    moda_grupo_0 = grupo_0[var_numerica].mode()
    return moda_grupo_1, moda_grupo_0

#uso: moda_grupo_1, moda_grupo_0 = comparar_moda(grupo_1, grupo_0, 'Fare')
#print(moda_grupo_1, moda_grupo_0)





def comparar_medidas_tendencia_central(grupo_1, grupo_0, var_numerica, grupo_1_label='Grupo 1', grupo_0_label='Grupo 0'):
    # Calcular médias
    media_grupo_1 = grupo_1[var_numerica].mean()
    media_grupo_0 = grupo_0[var_numerica].mean()
    
    # Calcular medianas
    mediana_grupo_1 = grupo_1[var_numerica].median()
    mediana_grupo_0 = grupo_0[var_numerica].median()
    
    # Calcular modas
    moda_grupo_1 = grupo_1[var_numerica].mode()
    moda_grupo_0 = grupo_0[var_numerica].mode()

    # Exibir os resultados de forma clara
    print(f"Comparação de {var_numerica} entre {grupo_1_label} e {grupo_0_label}:")
    print(f"{grupo_1_label} - Média: {media_grupo_1:.2f}, Mediana: {mediana_grupo_1:.2f}, Moda: {moda_grupo_1.values}")
    print(f"{grupo_0_label} - Média: {media_grupo_0:.2f}, Mediana: {mediana_grupo_0:.2f}, Moda: {moda_grupo_0.values}")
    
    # Retornar os valores
    return {
        'media': (media_grupo_1, media_grupo_0),
        'mediana': (mediana_grupo_1, mediana_grupo_0),
        'moda': (moda_grupo_1.values, moda_grupo_0.values)
    }



#USO

grupo_1, grupo_0 = dividir_grupos(df, 'Survived')
resultados = comparar_medidas_tendencia_central(grupo_1, grupo_0, 'Fare', grupo_1_label='Sobreviveu', grupo_0_label='Não Sobreviveu')

# Acessando os resultados
print("Médias:", resultados['media'])
print("Medianas:", resultados['mediana'])
print("Modas:", resultados['moda'])






import seaborn as sns
import matplotlib.pyplot as plt
def boxplot_comparacao(grupo_1, grupo_0, var_numerica, grupo_1_label='Grupo 1', grupo_0_label='Grupo 0'):
    temp_df = pd.DataFrame({
        var_numerica: pd.concat([grupo_1[var_numerica], grupo_0[var_numerica]]),
        'Grupo': [grupo_1_label] * len(grupo_1) + [grupo_0_label] * len(grupo_0)
    })

    sns.boxplot(x='Grupo', y=var_numerica, data=temp_df)
    plt.title(f'Comparação de {var_numerica} entre {grupo_1_label} e {grupo_0_label}')
    plt.show()

#exemplo de uso:
#boxplot_comparacao(grupo_1, grupo_0, 'Age', grupo_1_label='Rotacionou', grupo_0_label='Não Rotacionou')


boxplot_comparacao(grupo_1, grupo_0, 'Age', grupo_1_label='Rotacionou', grupo_0_label='Não Rotacionou')
