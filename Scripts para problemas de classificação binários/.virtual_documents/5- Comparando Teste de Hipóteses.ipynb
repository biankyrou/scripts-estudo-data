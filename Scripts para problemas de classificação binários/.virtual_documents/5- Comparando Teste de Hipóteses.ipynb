


import pandas as pd

df = pd.read_csv("data/titanic.csv")

def dividir_grupos(df, target_col):
    if df[target_col].dtype == 'int64':
        grupo_1 = df[df[target_col] == 1]
        grupo_0 = df[df[target_col] == 0]
        
    else:
        grupo_1 = df[df[target_col] == 'Yes']
        grupo_0 = df[df[target_col] == 'No']
    
    return grupo_1, grupo_0

grupo_1, grupo_0 = dividir_grupos(df, 'Survived')
grupo_1.head()





import numpy as np
import seaborn as sns
import matplotlib.pyplot as plt

def teste_hipotese(grupo_1, grupo_0, var_numerica):
    media_grupo_1 = grupo_1[var_numerica].mean()
    media_grupo_0 = grupo_0[var_numerica].mean()
    
    desvio_grupo_1 = grupo_1[var_numerica].std()
    desvio_grupo_0 = grupo_0[var_numerica].std()
    
    stat, p_val = stats.ttest_ind(grupo_1[var_numerica], grupo_0[var_numerica], equal_var=False)  
    
    plt.figure(figsize=(10, 6))
    sns.boxplot(data=[grupo_1[var_numerica], grupo_0[var_numerica]], palette='Set2')
    plt.xticks([0, 1], ['Grupo 1', 'Grupo 0'])
    plt.title(f'Comparação de {var_numerica} entre os grupos')
    plt.ylabel(var_numerica)
    plt.grid(True)
    plt.show()
    
    print(f"Teste de Hipótese para '{var_numerica}':")
    print(f"Estatística do teste: {stat:.2f}")
    print(f"Valor p: {p_val:.5f}")
    
    # Interpretação do valor p
    alpha = 0.05  # nível de significância
    if p_val < alpha:
        print("Rejeitamos a hipótese nula: há uma diferença significativa entre os grupos.")
    else:
        print("Não rejeitamos a hipótese nula: não há diferença significativa entre os grupos.")



#uso
teste_hipotese(grupo_1, grupo_0, 'Fare')



