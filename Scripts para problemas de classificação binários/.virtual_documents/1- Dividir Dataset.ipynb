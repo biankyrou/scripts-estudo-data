


def dividir_grupos(df, target_col):
    if df[target_col].dtype == 'int64':
        grupo_1 = df[df[target_col] == 1]
        grupo_0 = df[df[target_col] == 0]
        
    else:
        grupo_1 = df[df[target_col] == 'Yes']
        grupo_0 = df[df[target_col] == 'No']
    
    return grupo_1, grupo_0





#grupo_1, grupo_0 = dividir_grupos(df, 'Survived')


import pandas as pd

df = pd.read_csv("Scripts para problemas de classificação binários/data/titanic.csv")

df.head()


grupo_1, grupo_0 = dividir_grupos(df, 'Survived')
grupo_1.head()
