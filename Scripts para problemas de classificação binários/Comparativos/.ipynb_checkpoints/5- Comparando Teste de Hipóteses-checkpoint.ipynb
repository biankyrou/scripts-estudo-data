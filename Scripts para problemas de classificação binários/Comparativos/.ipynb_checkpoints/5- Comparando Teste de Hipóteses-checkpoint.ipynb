{
 "cells": [
  {
   "cell_type": "markdown",
   "id": "fb207939-02f1-4e7e-b0ca-4e3f6e9abd52",
   "metadata": {
    "jp-MarkdownHeadingCollapsed": true
   },
   "source": [
    "## Etapa que compara o teste de hipóteses considerando os dois grupos distintos\n",
    "-  Uso de teste t de Student para duas amostras independentes "
   ]
  },
  {
   "cell_type": "code",
   "execution_count": 2,
   "id": "54ea6795-7868-4cdd-ad0f-c70b81800c38",
   "metadata": {},
   "outputs": [
    {
     "data": {
      "text/html": [
       "<div>\n",
       "<style scoped>\n",
       "    .dataframe tbody tr th:only-of-type {\n",
       "        vertical-align: middle;\n",
       "    }\n",
       "\n",
       "    .dataframe tbody tr th {\n",
       "        vertical-align: top;\n",
       "    }\n",
       "\n",
       "    .dataframe thead th {\n",
       "        text-align: right;\n",
       "    }\n",
       "</style>\n",
       "<table border=\"1\" class=\"dataframe\">\n",
       "  <thead>\n",
       "    <tr style=\"text-align: right;\">\n",
       "      <th></th>\n",
       "      <th>PassengerId</th>\n",
       "      <th>Survived</th>\n",
       "      <th>Pclass</th>\n",
       "      <th>Name</th>\n",
       "      <th>Sex</th>\n",
       "      <th>Age</th>\n",
       "      <th>SibSp</th>\n",
       "      <th>Parch</th>\n",
       "      <th>Ticket</th>\n",
       "      <th>Fare</th>\n",
       "      <th>Cabin</th>\n",
       "      <th>Embarked</th>\n",
       "    </tr>\n",
       "  </thead>\n",
       "  <tbody>\n",
       "    <tr>\n",
       "      <th>1</th>\n",
       "      <td>2</td>\n",
       "      <td>1</td>\n",
       "      <td>1</td>\n",
       "      <td>Cumings, Mrs. John Bradley (Florence Briggs Th...</td>\n",
       "      <td>female</td>\n",
       "      <td>38.0</td>\n",
       "      <td>1</td>\n",
       "      <td>0</td>\n",
       "      <td>PC 17599</td>\n",
       "      <td>71.2833</td>\n",
       "      <td>C85</td>\n",
       "      <td>C</td>\n",
       "    </tr>\n",
       "    <tr>\n",
       "      <th>2</th>\n",
       "      <td>3</td>\n",
       "      <td>1</td>\n",
       "      <td>3</td>\n",
       "      <td>Heikkinen, Miss. Laina</td>\n",
       "      <td>female</td>\n",
       "      <td>26.0</td>\n",
       "      <td>0</td>\n",
       "      <td>0</td>\n",
       "      <td>STON/O2. 3101282</td>\n",
       "      <td>7.9250</td>\n",
       "      <td>NaN</td>\n",
       "      <td>S</td>\n",
       "    </tr>\n",
       "    <tr>\n",
       "      <th>3</th>\n",
       "      <td>4</td>\n",
       "      <td>1</td>\n",
       "      <td>1</td>\n",
       "      <td>Futrelle, Mrs. Jacques Heath (Lily May Peel)</td>\n",
       "      <td>female</td>\n",
       "      <td>35.0</td>\n",
       "      <td>1</td>\n",
       "      <td>0</td>\n",
       "      <td>113803</td>\n",
       "      <td>53.1000</td>\n",
       "      <td>C123</td>\n",
       "      <td>S</td>\n",
       "    </tr>\n",
       "    <tr>\n",
       "      <th>8</th>\n",
       "      <td>9</td>\n",
       "      <td>1</td>\n",
       "      <td>3</td>\n",
       "      <td>Johnson, Mrs. Oscar W (Elisabeth Vilhelmina Berg)</td>\n",
       "      <td>female</td>\n",
       "      <td>27.0</td>\n",
       "      <td>0</td>\n",
       "      <td>2</td>\n",
       "      <td>347742</td>\n",
       "      <td>11.1333</td>\n",
       "      <td>NaN</td>\n",
       "      <td>S</td>\n",
       "    </tr>\n",
       "    <tr>\n",
       "      <th>9</th>\n",
       "      <td>10</td>\n",
       "      <td>1</td>\n",
       "      <td>2</td>\n",
       "      <td>Nasser, Mrs. Nicholas (Adele Achem)</td>\n",
       "      <td>female</td>\n",
       "      <td>14.0</td>\n",
       "      <td>1</td>\n",
       "      <td>0</td>\n",
       "      <td>237736</td>\n",
       "      <td>30.0708</td>\n",
       "      <td>NaN</td>\n",
       "      <td>C</td>\n",
       "    </tr>\n",
       "  </tbody>\n",
       "</table>\n",
       "</div>"
      ],
      "text/plain": [
       "   PassengerId  Survived  Pclass  \\\n",
       "1            2         1       1   \n",
       "2            3         1       3   \n",
       "3            4         1       1   \n",
       "8            9         1       3   \n",
       "9           10         1       2   \n",
       "\n",
       "                                                Name     Sex   Age  SibSp  \\\n",
       "1  Cumings, Mrs. John Bradley (Florence Briggs Th...  female  38.0      1   \n",
       "2                             Heikkinen, Miss. Laina  female  26.0      0   \n",
       "3       Futrelle, Mrs. Jacques Heath (Lily May Peel)  female  35.0      1   \n",
       "8  Johnson, Mrs. Oscar W (Elisabeth Vilhelmina Berg)  female  27.0      0   \n",
       "9                Nasser, Mrs. Nicholas (Adele Achem)  female  14.0      1   \n",
       "\n",
       "   Parch            Ticket     Fare Cabin Embarked  \n",
       "1      0          PC 17599  71.2833   C85        C  \n",
       "2      0  STON/O2. 3101282   7.9250   NaN        S  \n",
       "3      0            113803  53.1000  C123        S  \n",
       "8      2            347742  11.1333   NaN        S  \n",
       "9      0            237736  30.0708   NaN        C  "
      ]
     },
     "execution_count": 2,
     "metadata": {},
     "output_type": "execute_result"
    }
   ],
   "source": [
    "import pandas as pd\n",
    "\n",
    "df = pd.read_csv(\"data/titanic.csv\")\n",
    "\n",
    "def dividir_grupos(df, target_col):\n",
    "    if df[target_col].dtype == 'int64':\n",
    "        grupo_1 = df[df[target_col] == 1]\n",
    "        grupo_0 = df[df[target_col] == 0]\n",
    "        \n",
    "    else:\n",
    "        grupo_1 = df[df[target_col] == 'Yes']\n",
    "        grupo_0 = df[df[target_col] == 'No']\n",
    "    \n",
    "    return grupo_1, grupo_0\n",
    "\n",
    "grupo_1, grupo_0 = dividir_grupos(df, 'Survived')\n",
    "grupo_1.head()"
   ]
  },
  {
   "cell_type": "markdown",
   "id": "3c3d055e-11eb-47e9-a61e-86c1409bea79",
   "metadata": {
    "jp-MarkdownHeadingCollapsed": true
   },
   "source": [
    "## Função e uso\n",
    "- Importante ressaltar que não podem haver dados nulos ou ausentes\n",
    "- O parâmetro é uma variável numérica"
   ]
  },
  {
   "cell_type": "code",
   "execution_count": 45,
   "id": "bbd21c12-00dd-4bf1-a96b-b8fe89059ae5",
   "metadata": {},
   "outputs": [],
   "source": [
    "import numpy as np\n",
    "import seaborn as sns\n",
    "import matplotlib.pyplot as plt\n",
    "\n",
    "def teste_hipotese(grupo_1, grupo_0, var_numerica):\n",
    "    media_grupo_1 = grupo_1[var_numerica].mean()\n",
    "    media_grupo_0 = grupo_0[var_numerica].mean()\n",
    "    \n",
    "    desvio_grupo_1 = grupo_1[var_numerica].std()\n",
    "    desvio_grupo_0 = grupo_0[var_numerica].std()\n",
    "    \n",
    "    stat, p_val = stats.ttest_ind(grupo_1[var_numerica], grupo_0[var_numerica], equal_var=False)  \n",
    "    \n",
    "    plt.figure(figsize=(10, 6))\n",
    "    sns.boxplot(data=[grupo_1[var_numerica], grupo_0[var_numerica]], palette='Set2')\n",
    "    plt.xticks([0, 1], ['Grupo 1', 'Grupo 0'])\n",
    "    plt.title(f'Comparação de {var_numerica} entre os grupos')\n",
    "    plt.ylabel(var_numerica)\n",
    "    plt.grid(True)\n",
    "    plt.show()\n",
    "    \n",
    "    print(f\"Teste de Hipótese para '{var_numerica}':\")\n",
    "    print(f\"Estatística do teste: {stat:.2f}\")\n",
    "    print(f\"Valor p: {p_val:.5f}\")\n",
    "    \n",
    "    # Interpretação do valor p\n",
    "    alpha = 0.05  # nível de significância\n",
    "    if p_val < alpha:\n",
    "        print(\"Rejeitamos a hipótese nula: há uma diferença significativa entre os grupos.\")\n",
    "    else:\n",
    "        print(\"Não rejeitamos a hipótese nula: não há diferença significativa entre os grupos.\")\n"
   ]
  },
  {
   "cell_type": "code",
   "execution_count": 46,
   "id": "a76321be-9b14-4cbc-a33e-372973e20033",
   "metadata": {},
   "outputs": [
    {
     "data": {
      "image/png": "[encoded data removed]",
      "text/plain": [
       "<Figure size 1000x600 with 1 Axes>"
      ]
     },
     "metadata": {},
     "output_type": "display_data"
    },
    {
     "name": "stdout",
     "output_type": "stream",
     "text": [
      "Teste de Hipótese para 'Fare':\n",
      "Estatística do teste: 6.84\n",
      "Valor p: 0.00000\n",
      "Rejeitamos a hipótese nula: há uma diferença significativa entre os grupos.\n"
     ]
    }
   ],
   "source": [
    "#uso\n",
    "teste_hipotese(grupo_1, grupo_0, 'Fare')"
   ]
  },
  {
   "cell_type": "markdown",
   "id": "f3900b55-91de-4f9f-b3c3-3656c71a7f19",
   "metadata": {},
   "source": [
    "### Interpretação:\n",
    "#### Tarifa (Fare):\n",
    "- Estatística do teste: 6.84:\n",
    "Esse valor indica a diferença padronizada entre as médias das tarifas nos dois grupos. Um valor alto sugere que as médias das tarifas dos grupos são significativamente diferentes.\n",
    "\n",
    "- Valor p: 0.00000:\n",
    "Um valor p de 0.00000 (ou muito próximo de zero) indica que a diferença observada entre as médias das tarifas é altamente significativa. Isso significa que a probabilidade de obter uma diferença tão extrema entre as médias das tarifas, se a hipótese nula (que afirma que não há diferença entre os grupos) for verdadeira, é extremamente baixa.\n",
    "\n",
    "- Interpretação:\n",
    "Com base neste resultado, rejeitamos a hipótese nula. Há evidências estatísticas suficientes para afirmar que existe uma diferença significativa entre as tarifas pagas pelos dois grupos (survived vs. not survived). Isso sugere que o comportamento ou as características dos passageiros em relação à tarifa estão relacionados à sua sobrevivência.\n"
   ]
  }
 ],
 "metadata": {
  "kernelspec": {
   "display_name": "Python 3 (ipykernel)",
   "language": "python",
   "name": "python3"
  },
  "language_info": {
   "codemirror_mode": {
    "name": "ipython",
    "version": 3
   },
   "file_extension": ".py",
   "mimetype": "text/x-python",
   "name": "python",
   "nbconvert_exporter": "python",
   "pygments_lexer": "ipython3",
   "version": "3.9.13"
  }
 },
 "nbformat": 4,
 "nbformat_minor": 5
}
