{
 "cells": [
  {
   "cell_type": "markdown",
   "id": "46feeddf-887f-45de-b2cf-91a0032e0e85",
   "metadata": {},
   "source": [
    "## Etapa que compara medidas de tendência central (média, mediana e moda)\n",
    "- Também inclui comparação de boxplots"
   ]
  },
  {
   "cell_type": "code",
   "execution_count": 47,
   "id": "d6dff4d1-1711-471d-8b93-aa7b383af6eb",
   "metadata": {},
   "outputs": [
    {
     "data": {
      "text/html": [
       "<div>\n",
       "<style scoped>\n",
       "    .dataframe tbody tr th:only-of-type {\n",
       "        vertical-align: middle;\n",
       "    }\n",
       "\n",
       "    .dataframe tbody tr th {\n",
       "        vertical-align: top;\n",
       "    }\n",
       "\n",
       "    .dataframe thead th {\n",
       "        text-align: right;\n",
       "    }\n",
       "</style>\n",
       "<table border=\"1\" class=\"dataframe\">\n",
       "  <thead>\n",
       "    <tr style=\"text-align: right;\">\n",
       "      <th></th>\n",
       "      <th>PassengerId</th>\n",
       "      <th>Survived</th>\n",
       "      <th>Pclass</th>\n",
       "      <th>Name</th>\n",
       "      <th>Sex</th>\n",
       "      <th>Age</th>\n",
       "      <th>SibSp</th>\n",
       "      <th>Parch</th>\n",
       "      <th>Ticket</th>\n",
       "      <th>Fare</th>\n",
       "      <th>Cabin</th>\n",
       "      <th>Embarked</th>\n",
       "    </tr>\n",
       "  </thead>\n",
       "  <tbody>\n",
       "    <tr>\n",
       "      <th>1</th>\n",
       "      <td>2</td>\n",
       "      <td>1</td>\n",
       "      <td>1</td>\n",
       "      <td>Cumings, Mrs. John Bradley (Florence Briggs Th...</td>\n",
       "      <td>female</td>\n",
       "      <td>38.0</td>\n",
       "      <td>1</td>\n",
       "      <td>0</td>\n",
       "      <td>PC 17599</td>\n",
       "      <td>71.2833</td>\n",
       "      <td>C85</td>\n",
       "      <td>C</td>\n",
       "    </tr>\n",
       "    <tr>\n",
       "      <th>2</th>\n",
       "      <td>3</td>\n",
       "      <td>1</td>\n",
       "      <td>3</td>\n",
       "      <td>Heikkinen, Miss. Laina</td>\n",
       "      <td>female</td>\n",
       "      <td>26.0</td>\n",
       "      <td>0</td>\n",
       "      <td>0</td>\n",
       "      <td>STON/O2. 3101282</td>\n",
       "      <td>7.9250</td>\n",
       "      <td>NaN</td>\n",
       "      <td>S</td>\n",
       "    </tr>\n",
       "    <tr>\n",
       "      <th>3</th>\n",
       "      <td>4</td>\n",
       "      <td>1</td>\n",
       "      <td>1</td>\n",
       "      <td>Futrelle, Mrs. Jacques Heath (Lily May Peel)</td>\n",
       "      <td>female</td>\n",
       "      <td>35.0</td>\n",
       "      <td>1</td>\n",
       "      <td>0</td>\n",
       "      <td>113803</td>\n",
       "      <td>53.1000</td>\n",
       "      <td>C123</td>\n",
       "      <td>S</td>\n",
       "    </tr>\n",
       "    <tr>\n",
       "      <th>8</th>\n",
       "      <td>9</td>\n",
       "      <td>1</td>\n",
       "      <td>3</td>\n",
       "      <td>Johnson, Mrs. Oscar W (Elisabeth Vilhelmina Berg)</td>\n",
       "      <td>female</td>\n",
       "      <td>27.0</td>\n",
       "      <td>0</td>\n",
       "      <td>2</td>\n",
       "      <td>347742</td>\n",
       "      <td>11.1333</td>\n",
       "      <td>NaN</td>\n",
       "      <td>S</td>\n",
       "    </tr>\n",
       "    <tr>\n",
       "      <th>9</th>\n",
       "      <td>10</td>\n",
       "      <td>1</td>\n",
       "      <td>2</td>\n",
       "      <td>Nasser, Mrs. Nicholas (Adele Achem)</td>\n",
       "      <td>female</td>\n",
       "      <td>14.0</td>\n",
       "      <td>1</td>\n",
       "      <td>0</td>\n",
       "      <td>237736</td>\n",
       "      <td>30.0708</td>\n",
       "      <td>NaN</td>\n",
       "      <td>C</td>\n",
       "    </tr>\n",
       "  </tbody>\n",
       "</table>\n",
       "</div>"
      ],
      "text/plain": [
       "   PassengerId  Survived  Pclass  \\\n",
       "1            2         1       1   \n",
       "2            3         1       3   \n",
       "3            4         1       1   \n",
       "8            9         1       3   \n",
       "9           10         1       2   \n",
       "\n",
       "                                                Name     Sex   Age  SibSp  \\\n",
       "1  Cumings, Mrs. John Bradley (Florence Briggs Th...  female  38.0      1   \n",
       "2                             Heikkinen, Miss. Laina  female  26.0      0   \n",
       "3       Futrelle, Mrs. Jacques Heath (Lily May Peel)  female  35.0      1   \n",
       "8  Johnson, Mrs. Oscar W (Elisabeth Vilhelmina Berg)  female  27.0      0   \n",
       "9                Nasser, Mrs. Nicholas (Adele Achem)  female  14.0      1   \n",
       "\n",
       "   Parch            Ticket     Fare Cabin Embarked  \n",
       "1      0          PC 17599  71.2833   C85        C  \n",
       "2      0  STON/O2. 3101282   7.9250   NaN        S  \n",
       "3      0            113803  53.1000  C123        S  \n",
       "8      2            347742  11.1333   NaN        S  \n",
       "9      0            237736  30.0708   NaN        C  "
      ]
     },
     "execution_count": 47,
     "metadata": {},
     "output_type": "execute_result"
    }
   ],
   "source": [
    "import pandas as pd\n",
    "\n",
    "df = pd.read_csv(\"data/titanic.csv\")\n",
    "\n",
    "def dividir_grupos(df, target_col):\n",
    "    if df[target_col].dtype == 'int64':\n",
    "        grupo_1 = df[df[target_col] == 1]\n",
    "        grupo_0 = df[df[target_col] == 0]\n",
    "        \n",
    "    else:\n",
    "        grupo_1 = df[df[target_col] == 'Yes']\n",
    "        grupo_0 = df[df[target_col] == 'No']\n",
    "    \n",
    "    return grupo_1, grupo_0\n",
    "\n",
    "grupo_1, grupo_0 = dividir_grupos(df, 'Survived')\n",
    "grupo_1.head()"
   ]
  },
  {
   "cell_type": "code",
   "execution_count": 48,
   "id": "d89380d9-a520-43df-80a8-6f8911932529",
   "metadata": {},
   "outputs": [
    {
     "data": {
      "image/png": "[encoded data removed]",
      "text/plain": [
       "<Figure size 1000x600 with 1 Axes>"
      ]
     },
     "metadata": {},
     "output_type": "display_data"
    }
   ],
   "source": [
    "import matplotlib.pyplot as plt\n",
    "\n",
    "# Definir o tamanho da figura\n",
    "plt.figure(figsize=(10, 6))\n",
    "\n",
    "# Criar o histograma para a coluna 'Fare'\n",
    "plt.hist(df['Fare'], bins=30, color='blue', edgecolor='black')\n",
    "\n",
    "# Adicionar título e rótulos aos eixos\n",
    "plt.title('Histograma de Fare')\n",
    "plt.xlabel('Fare')\n",
    "plt.ylabel('Frequência')\n",
    "\n",
    "# Exibir o gráfico\n",
    "plt.show()\n"
   ]
  },
  {
   "cell_type": "markdown",
   "id": "539d46a7-ac58-4474-a52b-587af59d9034",
   "metadata": {
    "jp-MarkdownHeadingCollapsed": true
   },
   "source": [
    "## Funções e uso"
   ]
  },
  {
   "cell_type": "code",
   "execution_count": 19,
   "id": "22352efa-a6cc-4853-bef0-886c3a96423d",
   "metadata": {},
   "outputs": [],
   "source": [
    "def comparar_medias(grupo_1, grupo_0, var_numerica):\n",
    "    media_grupo_1 = grupo_1[var_numerica].mean()\n",
    "    media_grupo_0 = grupo_0[var_numerica].mean()\n",
    "    return media_grupo_1, media_grupo_0\n",
    "\n",
    "\n",
    "#uso: media_grupo1, media_grupo0 = comparar_medias(grupo_1, grupo_0, 'Fare')\n",
    "#print(media_grupo1, media_grupo0)"
   ]
  },
  {
   "cell_type": "code",
   "execution_count": 20,
   "id": "e383ba13-e9aa-46b8-a0ff-d791d16917c5",
   "metadata": {},
   "outputs": [],
   "source": [
    "def comparar_mediana(grupo_1, grupo_0, var_numerica):\n",
    "    mediana_grupo_1 = grupo_1[var_numerica].median()\n",
    "    mediana_grupo_0 = grupo_0[var_numerica].median()\n",
    "    return mediana_grupo_1, mediana_grupo_0\n",
    "\n",
    "\n",
    "#uso: mediana_grupo_1, mediana_grupo_0 = comparar_mediana(grupo_1, grupo_0, 'Fare')\n",
    "#print(mediana_grupo_1, mediana_grupo_0)"
   ]
  },
  {
   "cell_type": "code",
   "execution_count": 21,
   "id": "7a2f8f04-2c4d-4fc0-a9ce-b043e400d617",
   "metadata": {},
   "outputs": [],
   "source": [
    "def comparar_moda(grupo_1, grupo_0, var_numerica):\n",
    "    moda_grupo_1 = grupo_1[var_numerica].mode()\n",
    "    moda_grupo_0 = grupo_0[var_numerica].mode()\n",
    "    return moda_grupo_1, moda_grupo_0\n",
    "\n",
    "#uso: moda_grupo_1, moda_grupo_0 = comparar_moda(grupo_1, grupo_0, 'Fare')\n",
    "#print(moda_grupo_1, moda_grupo_0)"
   ]
  },
  {
   "cell_type": "markdown",
   "id": "58c690cf-db76-4a9e-92c9-adf49d73c58f",
   "metadata": {
    "jp-MarkdownHeadingCollapsed": true
   },
   "source": [
    "### Comparando todas juntas"
   ]
  },
  {
   "cell_type": "code",
   "execution_count": 43,
   "id": "209270a1-6e0a-473f-ad9b-f3130e9a06d2",
   "metadata": {},
   "outputs": [],
   "source": [
    "def comparar_medidas_tendencia_central(grupo_1, grupo_0, var_numerica, grupo_1_label='Grupo 1', grupo_0_label='Grupo 0'):\n",
    "    # Calcular médias\n",
    "    media_grupo_1 = grupo_1[var_numerica].mean()\n",
    "    media_grupo_0 = grupo_0[var_numerica].mean()\n",
    "    \n",
    "    # Calcular medianas\n",
    "    mediana_grupo_1 = grupo_1[var_numerica].median()\n",
    "    mediana_grupo_0 = grupo_0[var_numerica].median()\n",
    "    \n",
    "    # Calcular modas\n",
    "    moda_grupo_1 = grupo_1[var_numerica].mode()\n",
    "    moda_grupo_0 = grupo_0[var_numerica].mode()\n",
    "\n",
    "    # Exibir os resultados de forma clara\n",
    "    print(f\"Comparação de {var_numerica} entre {grupo_1_label} e {grupo_0_label}:\")\n",
    "    print(f\"{grupo_1_label} - Média: {media_grupo_1:.2f}, Mediana: {mediana_grupo_1:.2f}, Moda: {moda_grupo_1.values}\")\n",
    "    print(f\"{grupo_0_label} - Média: {media_grupo_0:.2f}, Mediana: {mediana_grupo_0:.2f}, Moda: {moda_grupo_0.values}\")\n",
    "    \n",
    "    # Retornar os valores\n",
    "    return {\n",
    "        'media': (media_grupo_1, media_grupo_0),\n",
    "        'mediana': (mediana_grupo_1, mediana_grupo_0),\n",
    "        'moda': (moda_grupo_1.values, moda_grupo_0.values)\n",
    "    }\n"
   ]
  },
  {
   "cell_type": "code",
   "execution_count": 46,
   "id": "2a0a3e63-df79-436d-bfd7-8e343feeb96e",
   "metadata": {},
   "outputs": [
    {
     "name": "stdout",
     "output_type": "stream",
     "text": [
      "Comparação de Fare entre Sobreviveu e Não Sobreviveu:\n",
      "Sobreviveu - Média: 48.40, Mediana: 26.00, Moda: [13.]\n",
      "Não Sobreviveu - Média: 22.12, Mediana: 10.50, Moda: [8.05]\n",
      "Médias: (48.39540760233918, 22.117886885245902)\n",
      "Medianas: (26.0, 10.5)\n",
      "Modas: (array([13.]), array([8.05]))\n"
     ]
    }
   ],
   "source": [
    "#USO\n",
    "\n",
    "grupo_1, grupo_0 = dividir_grupos(df, 'Survived')\n",
    "resultados = comparar_medidas_tendencia_central(grupo_1, grupo_0, 'Fare', grupo_1_label='Sobreviveu', grupo_0_label='Não Sobreviveu')\n",
    "\n",
    "# Acessando os resultados\n",
    "print(\"Médias:\", resultados['media'])\n",
    "print(\"Medianas:\", resultados['mediana'])\n",
    "print(\"Modas:\", resultados['moda'])\n"
   ]
  },
  {
   "cell_type": "markdown",
   "id": "2c174508-279c-41cc-9572-93b618ae531b",
   "metadata": {
    "jp-MarkdownHeadingCollapsed": true
   },
   "source": [
    "### Comparando boxplots"
   ]
  },
  {
   "cell_type": "code",
   "execution_count": 41,
   "id": "fe42059f-1f48-48f9-bb96-0c31809076a9",
   "metadata": {},
   "outputs": [],
   "source": [
    "import seaborn as sns\n",
    "import matplotlib.pyplot as plt\n",
    "def boxplot_comparacao(grupo_1, grupo_0, var_numerica, grupo_1_label='Grupo 1', grupo_0_label='Grupo 0'):\n",
    "    temp_df = pd.DataFrame({\n",
    "        var_numerica: pd.concat([grupo_1[var_numerica], grupo_0[var_numerica]]),\n",
    "        'Grupo': [grupo_1_label] * len(grupo_1) + [grupo_0_label] * len(grupo_0)\n",
    "    })\n",
    "\n",
    "    sns.boxplot(x='Grupo', y=var_numerica, data=temp_df)\n",
    "    plt.title(f'Comparação de {var_numerica} entre {grupo_1_label} e {grupo_0_label}')\n",
    "    plt.show()\n",
    "\n",
    "#exemplo de uso:\n",
    "#boxplot_comparacao(grupo_1, grupo_0, 'Age', grupo_1_label='Rotacionou', grupo_0_label='Não Rotacionou')"
   ]
  },
  {
   "cell_type": "code",
   "execution_count": 48,
   "id": "97cd1607-ec68-406b-9e02-1a1001e5248f",
   "metadata": {},
   "outputs": [
    {
     "data": {
      "image/png": "[encoded data removed]",
      "text/plain": [
       "<Figure size 640x480 with 1 Axes>"
      ]
     },
     "metadata": {},
     "output_type": "display_data"
    }
   ],
   "source": [
    "boxplot_comparacao(grupo_1, grupo_0, 'Age', grupo_1_label='Rotacionou', grupo_0_label='Não Rotacionou')"
   ]
  }
 ],
 "metadata": {
  "kernelspec": {
   "display_name": "Python 3 (ipykernel)",
   "language": "python",
   "name": "python3"
  },
  "language_info": {
   "codemirror_mode": {
    "name": "ipython",
    "version": 3
   },
   "file_extension": ".py",
   "mimetype": "text/x-python",
   "name": "python",
   "nbconvert_exporter": "python",
   "pygments_lexer": "ipython3",
   "version": "3.9.13"
  }
 },
 "nbformat": 4,
 "nbformat_minor": 5
}
